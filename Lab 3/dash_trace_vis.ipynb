{
  "nbformat": 4,
  "nbformat_minor": 0,
  "metadata": {
    "colab": {
      "provenance": [],
      "include_colab_link": true
    },
    "kernelspec": {
      "name": "python3",
      "display_name": "Python 3"
    },
    "language_info": {
      "name": "python"
    }
  },
  "cells": [
    {
      "cell_type": "markdown",
      "metadata": {
        "id": "view-in-github",
        "colab_type": "text"
      },
      "source": [
        "<a href=\"https://colab.research.google.com/github/YEOWEIHNGWHYELAB/CSE434-Work/blob/main/dash_trace_vis.ipynb\" target=\"_parent\"><img src=\"https://colab.research.google.com/assets/colab-badge.svg\" alt=\"Open In Colab\"/></a>"
      ]
    },
    {
      "cell_type": "markdown",
      "source": [
        "Run the following cell to upload a DASH experiment log file:"
      ],
      "metadata": {
        "id": "rGbdHGdnWOZj"
      }
    },
    {
      "cell_type": "code",
      "source": [
        "from google.colab import files\n",
        "\n",
        "uploaded = files.upload()\n",
        "\n",
        "for fn in uploaded.keys():\n",
        "  print('User uploaded file \"{name}\" with length {length} bytes'.format(\n",
        "      name=fn, length=len(uploaded[fn])))"
      ],
      "metadata": {
        "id": "YfOSE99AWNiT"
      },
      "execution_count": null,
      "outputs": []
    },
    {
      "cell_type": "markdown",
      "source": [
        "Then, in the next cell, replace the filename with your own DASH log name."
      ],
      "metadata": {
        "id": "Ws5BpE1tWSmc"
      }
    },
    {
      "cell_type": "code",
      "source": [
        "# Change the filename\n",
        "filename = \"DASH_BUFFER_LOG_2022-04-03.22_09_33.csv\""
      ],
      "metadata": {
        "id": "ayW8aoqNWWlW"
      },
      "execution_count": null,
      "outputs": []
    },
    {
      "cell_type": "markdown",
      "source": [
        "The last cell will read in the data and plot the video rate against time (higher rate means higher quality video!)\n",
        "\n",
        "The background of the plot will be shaded according to the video playback status: a light cyan background means the video is playing, while a light pink background means the video is buffering (\"frozen\")."
      ],
      "metadata": {
        "id": "LQCPJt7EWk2H"
      }
    },
    {
      "cell_type": "code",
      "execution_count": null,
      "metadata": {
        "id": "gwHJ5VwyWEq-"
      },
      "outputs": [],
      "source": [
        "import matplotlib.pyplot as plt\n",
        "import pandas as pd\n",
        "\n",
        "c = {'INITIAL_BUFFERING': 'violet', 'PLAY': 'lightcyan', 'BUFFERING': 'lightpink'}\n",
        "\n",
        "dash = pd.read_csv(filename)\n",
        "dash = dash.loc[dash.CurrentPlaybackState.isin(c.keys() )]\n",
        "states = pd.DataFrame({'startState': dash.CurrentPlaybackState[0:-2].values, 'startTime': dash.EpochTime[0:-2].values,\n",
        "                        'endState':  dash.CurrentPlaybackState[1:-1].values, 'endTime':   dash.EpochTime[1:-1].values})\n",
        "\n",
        "\n",
        "for index, s in states.iterrows():\n",
        "  plt.axvspan(s['startTime'], s['endTime'],  color=c[s['startState']], alpha=1) \n",
        "\n",
        "plt.plot(dash[dash.Action!=\"Writing\"].EpochTime, dash[dash.Action!=\"Writing\"].Bitrate, 'kx:')\n",
        "plt.title(\"Video rate (bps)\");\n",
        "plt.xlabel(\"Time (s)\");"
      ]
    }
  ]
}
